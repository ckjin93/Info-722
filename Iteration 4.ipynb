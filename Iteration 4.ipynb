{
 "cells": [
  {
   "cell_type": "code",
   "execution_count": 1,
   "metadata": {},
   "outputs": [],
   "source": [
    "import findspark\n",
    "findspark.init('/home/ubuntu/spark-2.1.1-bin-hadoop2.7')\n",
    "import pyspark\n",
    "from pyspark.sql import SparkSession\n",
    "spark = SparkSession.builder \\\n",
    "                    .appName('Iteration4.1')    \\\n",
    "                    .getOrCreate()\n",
    "from pyspark.sql import Row\n",
    "from pyspark.ml.linalg import Vectors\n",
    "from pyspark.sql.types import StructType, IntegerType, StringType, StructField, BooleanType\n",
    "from pyspark.sql.functions import *\n",
    "from pyspark.sql import Window\n",
    "from pyspark.sql.functions import last\n",
    "import sys"
   ]
  },
  {
   "cell_type": "code",
   "execution_count": 2,
   "metadata": {},
   "outputs": [],
   "source": [
    "df_1 = spark.read.load('./apacheApsVar.csv', format='csv', header='true', inferSchema=True)\n",
    "df1_todrop = ['apacheapsvarid','creatinine','bun', 'glucose', 'bilirubin','meds','ph', 'hematocrit','urine', 'albumin', \n",
    "              'pao2', 'pco2', 'fio2', 'ph','meds','sodium']\n",
    "df1 = df_1.drop(*df1_todrop)\n",
    "df_2 = spark.read.load('./apachePatientResult.csv', format='csv', header='true', inferSchema=True)\n",
    "df2_todrop = ['apachepatientresultsid','physicianspeciality','physicianinterventioncategory','acutephysiologyscore',\n",
    "              'apachescore','apacheversion', 'predictedicumortality','predictediculos','predictedhospitalmortality',\n",
    "              'predictedhospitallos','preopmi', 'preopcardiaccath', 'ptcawithin24h', 'unabridgedunitlos','unabridgedhosplos',\n",
    "              'actualventdays', 'predventdays','unabridgedactualventdays']\n",
    "df2 = df_2.drop(*df2_todrop)\n",
    "df_3 = spark.read.load('./patient.csv', format='csv', header='true', inferSchema=True)\n",
    "df3_todrop = ['patienthealthsystemstayid','hospitalid', 'wardid', 'apacheadmissiondx','hospitaladmittime24','hospitaldischargetime24',\n",
    "              'hospitaladmitoffset','hospitaladmitsource', 'hospitaldischargeyear','hospitaldischargeoffset','hospitaldischargelocation', \n",
    "              'hospitaldischargestatus', 'unittype','unitadmittime24', 'unitadmitsource', 'unitvisitnumber', 'unitstaytype',\n",
    "              'unitdischargetime24','unitdischargeoffset', 'unitdischargelocation', 'unitdischargestatus', 'uniquepid','dischargeweight']\n",
    "df3 = df_3.drop(*df3_todrop)"
   ]
  },
  {
   "cell_type": "code",
   "execution_count": 3,
   "metadata": {},
   "outputs": [],
   "source": [
    "df_filled1 = df1.withColumn('eyes', regexp_replace('eyes', '-1', '4'))\n",
    "df_filled2 = df_filled1.withColumn('motor', regexp_replace('motor', '-1', '6'))\n",
    "df_filled = df_filled2.withColumn('verbal', regexp_replace('verbal', '-1', '5'))\n",
    "\n",
    "df_filled = df_filled.withColumn('GCS', col('motor')+ col('eyes')+ col('verbal'))"
   ]
  },
  {
   "cell_type": "code",
   "execution_count": 4,
   "metadata": {},
   "outputs": [],
   "source": [
    "data_1 = df_filled.select('patientunitstayid',\"eyes\",'motor','verbal','intubated','vent','dialysis', 'GCS')"
   ]
  },
  {
   "cell_type": "code",
   "execution_count": 5,
   "metadata": {},
   "outputs": [],
   "source": [
    "dfw =  df1.withColumn(\"wbc\",\n",
    "    when(col(\"wbc\").isin('-1.0'),None).otherwise(col(\"wbc\")))   \n",
    "window = Window.orderBy('patientunitstayid')\\\n",
    "               .rowsBetween(-sys.maxsize, 0)\\\n",
    "                .partitionBy('patientunitstayid')\n",
    "filled_column_wbc = last(dfw['wbc'], ignorenulls=True).over(window)\n",
    "df_filled_wbc = dfw.withColumn('wbc',  filled_column_wbc)\n",
    "wbc = df_filled_wbc.select('patientunitstayid','wbc')\n",
    "wbc = wbc.where('wbc<=120').drop()"
   ]
  },
  {
   "cell_type": "code",
   "execution_count": 6,
   "metadata": {},
   "outputs": [],
   "source": [
    "dft =  df1.withColumn(\"temperature\",\n",
    "    when(col(\"temperature\").isin('-1.0'),None).otherwise(col(\"temperature\")))\n",
    "window = Window.orderBy('patientunitstayid')\\\n",
    "               .rowsBetween(-sys.maxsize, 0)\\\n",
    "                .partitionBy('patientunitstayid')\n",
    "filled_column_temperature = last(dft['temperature'], ignorenulls=True).over(window)\n",
    "df_filled_temperature = dft.withColumn('temperature',  filled_column_temperature)\n",
    "temperature = df_filled_temperature.select('patientunitstayid','temperature')\n",
    "temperature = temperature.where('temperature<=41.0').drop()\n",
    "temperature = temperature.where('temperature>=30.0').drop()"
   ]
  },
  {
   "cell_type": "code",
   "execution_count": 7,
   "metadata": {},
   "outputs": [],
   "source": [
    "dfr =  df1.withColumn(\"respiratoryrate\",\n",
    "    when(col(\"respiratoryrate\").isin('-1.0'),None).otherwise(col(\"respiratoryrate\")))\n",
    "window = Window.orderBy('patientunitstayid')\\\n",
    "               .rowsBetween(-sys.maxsize, 0)\\\n",
    "                .partitionBy('patientunitstayid')\n",
    "filled_column_respiratoryrate = last(dfr['respiratoryrate'], ignorenulls=True).over(window)\n",
    "df1_filled_respiratoryrate = dfr.withColumn('respiratoryrate',  filled_column_respiratoryrate)\n",
    "respiratoryrate = df1_filled_respiratoryrate.select('patientunitstayid','respiratoryrate')"
   ]
  },
  {
   "cell_type": "code",
   "execution_count": 8,
   "metadata": {},
   "outputs": [],
   "source": [
    "dfh =  df1.withColumn(\"heartrate\",\n",
    "    when(col(\"heartrate\").isin('-1'),None).otherwise(col(\"heartrate\")))\n",
    "window = Window.orderBy('patientunitstayid')\\\n",
    "               .rowsBetween(-sys.maxsize, 0)\\\n",
    "               .partitionBy('patientunitstayid')\n",
    "filled_column_heartrate = last(dfh['heartrate'], ignorenulls=True).over(window)\n",
    "df1_filled_heartrate = dfh.withColumn('heartrate',  filled_column_heartrate)\n",
    "heartrate = df1_filled_heartrate.select('patientunitstayid','heartrate')\n",
    "heartrate = heartrate.where('heartrate<=200').drop()"
   ]
  },
  {
   "cell_type": "code",
   "execution_count": 9,
   "metadata": {},
   "outputs": [],
   "source": [
    "dfm =  df1.withColumn(\"meanbp\",\n",
    "    when(col(\"meanbp\").isin('-1.0'),None).otherwise(col(\"meanbp\")))\n",
    "window = Window.orderBy('patientunitstayid')\\\n",
    "               .rowsBetween(-sys.maxsize, 0)\\\n",
    "               .partitionBy('patientunitstayid')\n",
    "filled_column_meanbp = last(dfm['meanbp'], ignorenulls=True).over(window)\n",
    "df1_filled_meanbp = dfm.withColumn('meanbp',  filled_column_meanbp)\n",
    "meanbp = df1_filled_meanbp.select('patientunitstayid','meanbp')\n",
    "meanbp = meanbp.where('meanbp<=200').drop()"
   ]
  },
  {
   "cell_type": "code",
   "execution_count": 10,
   "metadata": {},
   "outputs": [],
   "source": [
    "data_1 = df_filled.select('patientunitstayid',\"eyes\",'motor','verbal','intubated','vent','dialysis', 'GCS')\n",
    "data_1 = data_1.join(wbc,['patientunitstayid'])"
   ]
  },
  {
   "cell_type": "code",
   "execution_count": 11,
   "metadata": {},
   "outputs": [],
   "source": [
    "data_1 = data_1.join(temperature,['patientunitstayid'])"
   ]
  },
  {
   "cell_type": "code",
   "execution_count": 12,
   "metadata": {},
   "outputs": [],
   "source": [
    "data_1 = data_1.join(respiratoryrate,['patientunitstayid'])"
   ]
  },
  {
   "cell_type": "code",
   "execution_count": 13,
   "metadata": {},
   "outputs": [],
   "source": [
    "data_1 = data_1.join(heartrate,['patientunitstayid'])"
   ]
  },
  {
   "cell_type": "code",
   "execution_count": 14,
   "metadata": {},
   "outputs": [],
   "source": [
    "data_1 = data_1.join(meanbp,['patientunitstayid'])"
   ]
  },
  {
   "cell_type": "code",
   "execution_count": 15,
   "metadata": {},
   "outputs": [],
   "source": [
    "df_2 = df2.select('patientunitstayid', 'actualicumortality', 'actualiculos')"
   ]
  },
  {
   "cell_type": "code",
   "execution_count": 16,
   "metadata": {},
   "outputs": [],
   "source": [
    "data_1 = data_1.join(df_2,['patientunitstayid'])"
   ]
  },
  {
   "cell_type": "code",
   "execution_count": 17,
   "metadata": {},
   "outputs": [],
   "source": [
    "age = df3.select('patientunitstayid','age')"
   ]
  },
  {
   "cell_type": "code",
   "execution_count": 18,
   "metadata": {},
   "outputs": [],
   "source": [
    "age = age.withColumn('age', regexp_replace('age', '> 89', '90'))"
   ]
  },
  {
   "cell_type": "code",
   "execution_count": 19,
   "metadata": {},
   "outputs": [],
   "source": [
    "age = age.na.drop(subset=\"age\")"
   ]
  },
  {
   "cell_type": "code",
   "execution_count": 20,
   "metadata": {},
   "outputs": [],
   "source": [
    "df3 =  df3.withColumn(\"gender\",\n",
    "    when(col(\"gender\").isin('Other','Unknown'),None).otherwise(col(\"gender\")))\n",
    "window = Window.orderBy('patientunitstayid')\\\n",
    "               .rowsBetween(-sys.maxsize, 0)\\\n",
    "                .partitionBy('patientunitstayid')\n",
    "filled_column_gender = last(df3['gender'], ignorenulls=True).over(window)\n",
    "df3_filled_gender = df3.withColumn('gender',  filled_column_gender)\n",
    "gender = df3_filled_gender.select('patientunitstayid','gender')"
   ]
  },
  {
   "cell_type": "code",
   "execution_count": 21,
   "metadata": {},
   "outputs": [],
   "source": [
    "gender = gender.withColumn('gender', regexp_replace('gender', 'Male', '1'))\n",
    "gender = gender.withColumn('gender', regexp_replace('gender', 'Female', '0'))"
   ]
  },
  {
   "cell_type": "code",
   "execution_count": 22,
   "metadata": {},
   "outputs": [],
   "source": [
    "df3 =  df3.withColumn(\"admissionweight\",\n",
    "    when(col(\"admissionweight\").isin('-1.0'),None).otherwise(col(\"admissionweight\")))\n",
    "window = Window.orderBy('patientunitstayid')\\\n",
    "               .rowsBetween(-sys.maxsize, 0)\\\n",
    "                .partitionBy('patientunitstayid')\n",
    "filled_column_admissionweight = last(df3['admissionweight'], ignorenulls=True).over(window)\n",
    "df3_filled_admissionweight = df3.withColumn('admissionweight',  filled_column_admissionweight)\n",
    "admissionweight = df3_filled_admissionweight.select('patientunitstayid','admissionweight')"
   ]
  },
  {
   "cell_type": "code",
   "execution_count": 23,
   "metadata": {},
   "outputs": [],
   "source": [
    "data_1 = data_1.join(age,['patientunitstayid'])"
   ]
  },
  {
   "cell_type": "code",
   "execution_count": 24,
   "metadata": {},
   "outputs": [],
   "source": [
    "data_1 = data_1.join(gender,['patientunitstayid'])"
   ]
  },
  {
   "cell_type": "code",
   "execution_count": 25,
   "metadata": {},
   "outputs": [],
   "source": [
    "data = data_1.join(admissionweight,['patientunitstayid'])"
   ]
  },
  {
   "cell_type": "code",
   "execution_count": 26,
   "metadata": {},
   "outputs": [],
   "source": [
    "data = data.sampleBy('actualicumortality', fractions={'ALIVE': 0.000035, 'EXPIRED': 0.0005}, seed=1)"
   ]
  },
  {
   "cell_type": "code",
   "execution_count": 27,
   "metadata": {},
   "outputs": [],
   "source": [
    "data = data.withColumn('actualicumortality', regexp_replace('actualicumortality', 'ALIVE', '1'))\n",
    "data = data.withColumn('actualicumortality', regexp_replace('actualicumortality', 'EXPIRED', '0'))"
   ]
  },
  {
   "cell_type": "code",
   "execution_count": 28,
   "metadata": {},
   "outputs": [],
   "source": [
    "data = data.withColumn('gender', regexp_replace('gender', 'MALE', '1'))\n",
    "data = data.withColumn('gender', regexp_replace('gender', 'FEMALE', '0'))"
   ]
  },
  {
   "cell_type": "code",
   "execution_count": 29,
   "metadata": {},
   "outputs": [],
   "source": [
    "data = data.withColumn(('patientunitstayid'),data['patientunitstayid'].cast(StringType()))"
   ]
  },
  {
   "cell_type": "code",
   "execution_count": 30,
   "metadata": {},
   "outputs": [],
   "source": [
    "data = data.withColumn(('intubated'),data['intubated'].cast(BooleanType()))\n",
    "data = data.withColumn(('dialysis'),data['dialysis'].cast(BooleanType()))\n",
    "data = data.withColumn(('vent'),data['vent'].cast(BooleanType()))\n",
    "data = data.withColumn(('age'),data['age'].cast(IntegerType()))\n",
    "data = data.withColumn(('verbal'),data['verbal'].cast(IntegerType()))\n",
    "data = data.withColumn(('eyes'),data['eyes'].cast(IntegerType()))\n",
    "data = data.withColumn(('motor'),data['motor'].cast(IntegerType()))\n",
    "data = data.withColumn(('gender'),data['gender'].cast(IntegerType()))\n",
    "data = data.withColumn(('actualicumortality'),data['actualicumortality'].cast(IntegerType()))"
   ]
  },
  {
   "cell_type": "code",
   "execution_count": 31,
   "metadata": {},
   "outputs": [],
   "source": [
    "from pyspark.ml.linalg import Vectors\n",
    "from pyspark.ml.feature import VectorAssembler\n",
    "assembler = VectorAssembler(\n",
    "  inputCols=['intubated', 'vent', 'wbc', 'temperature', 'gender', 'respiratoryrate',\n",
    "             'heartrate', 'meanbp', 'age',  'GCS', 'admissionweight'],\n",
    "              outputCol=\"features\")"
   ]
  },
  {
   "cell_type": "code",
   "execution_count": 32,
   "metadata": {},
   "outputs": [],
   "source": [
    "output = assembler.transform(data)"
   ]
  },
  {
   "cell_type": "code",
   "execution_count": 33,
   "metadata": {},
   "outputs": [],
   "source": [
    "final_data = output.select(\"features\",'actualicumortality')"
   ]
  },
  {
   "cell_type": "code",
   "execution_count": 34,
   "metadata": {},
   "outputs": [],
   "source": [
    "from pyspark.ml.evaluation import BinaryClassificationEvaluator\n",
    "my_binary_eval = BinaryClassificationEvaluator(labelCol = 'actualicumortality')"
   ]
  },
  {
   "cell_type": "code",
   "execution_count": 35,
   "metadata": {},
   "outputs": [],
   "source": [
    "train_data,test_data = final_data.randomSplit([0.7,0.3])"
   ]
  },
  {
   "cell_type": "code",
   "execution_count": 36,
   "metadata": {},
   "outputs": [],
   "source": [
    "from pyspark.ml.classification import DecisionTreeClassifier, DecisionTreeClassificationModel\n",
    "dtc = DecisionTreeClassifier(labelCol='actualicumortality',featuresCol='features', maxDepth=8, minInstancesPerNode=10,impurity='gini')\n",
    "#rfc = RandomForestClassifier(labelCol='actualicumortality',featuresCol='features',maxDepth=10, minInstancesPerNode=10,impurity='entropy',numTrees=5)\n",
    "#gbt = GBTClassifier(labelCol='actualicumortality',featuresCol='features',maxDepth=15, minInstancesPerNode=20)"
   ]
  },
  {
   "cell_type": "code",
   "execution_count": null,
   "metadata": {},
   "outputs": [],
   "source": [
    "dtc_model = dtc.fit(train_data)\n",
    "#rfc_model = rfc.fit(train_data)\n",
    "#gbt_model = gbt.fit(train_data)"
   ]
  },
  {
   "cell_type": "code",
   "execution_count": null,
   "metadata": {},
   "outputs": [],
   "source": [
    "dtc_predictions = dtc_model.transform(test_data)\n",
    "#rfc_predictions = rfc_model.transform(test_data)\n",
    "#gbt_predictions = gbt_model.transform(test_data)"
   ]
  },
  {
   "cell_type": "code",
   "execution_count": null,
   "metadata": {},
   "outputs": [],
   "source": [
    "print(\"dtc\")\n",
    "print(my_binary_eval.evaluate(dtc_predictions))\n",
    "#print(\"rfc\")\n",
    "#print(my_binary_eval.evaluate(rfc_predictions))\n",
    "#my_binary_gbt_eval = BinaryClassificationEvaluator(labelCol='actualicumortality', rawPredictionCol='prediction')\n",
    "#print(\"GBT\")\n",
    "#print(my_binary_gbt_eval.evaluate(gbt_predictions))"
   ]
  },
  {
   "cell_type": "code",
   "execution_count": null,
   "metadata": {},
   "outputs": [],
   "source": [
    "from pyspark.ml.evaluation import MulticlassClassificationEvaluator\n",
    "acc_evaluator = MulticlassClassificationEvaluator(labelCol=\"actualicumortality\", predictionCol=\"prediction\", metricName=\"accuracy\")\n",
    "dtc_acc = acc_evaluator.evaluate(dtc_predictions)\n",
    "#rfc_acc = acc_evaluator.evaluate(rfc_predictions)\n",
    "#gbt_acc = acc_evaluator.evaluate(gbt_predictions)\n",
    "#print('A single decision tree has an accuracy of: {0:2.2f}%'.format(dtc_acc*100))\n",
    "print('A random forest ensemble has an accuracy of: {0:2.2f}%'.format(rfc_acc*100))\n",
    "#print('An ensemble using GBT has an accuracy of: {0:2.2f}%'.format(gbt_acc*100))"
   ]
  },
  {
   "cell_type": "code",
   "execution_count": null,
   "metadata": {},
   "outputs": [],
   "source": []
  },
  {
   "cell_type": "code",
   "execution_count": null,
   "metadata": {},
   "outputs": [],
   "source": []
  }
 ],
 "metadata": {
  "kernelspec": {
   "display_name": "Python 3",
   "language": "python",
   "name": "python3"
  },
  "language_info": {
   "codemirror_mode": {
    "name": "ipython",
    "version": 3
   },
   "file_extension": ".py",
   "mimetype": "text/x-python",
   "name": "python",
   "nbconvert_exporter": "python",
   "pygments_lexer": "ipython3",
   "version": "3.5.2"
  }
 },
 "nbformat": 4,
 "nbformat_minor": 2
}
